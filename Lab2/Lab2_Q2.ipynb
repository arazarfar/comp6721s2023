{
  "nbformat": 4,
  "nbformat_minor": 0,
  "metadata": {
    "colab": {
      "provenance": []
    },
    "kernelspec": {
      "name": "python3",
      "display_name": "Python 3"
    },
    "language_info": {
      "name": "python"
    }
  },
  "cells": [
    {
      "cell_type": "markdown",
      "source": [
        "Concordia COMP 6721 Summer 2023 <br>\n",
        "Lab Assignment 2 State Space Search (sample implementation) <br> \n",
        "Question 2 "
      ],
      "metadata": {
        "id": "GIJ-KjAhEcVS"
      }
    },
    {
      "cell_type": "code",
      "source": [
        "# Cost of actions given in the question\n",
        "ACTION_COST = {\n",
        "    ('A','C'):1,\n",
        "    ('A','D'):6,\n",
        "    ('B','G2'):9,\n",
        "    ('B','E'):1,\n",
        "    ('C','S'):2,\n",
        "    ('C','D'):4,\n",
        "    ('D','G1'):6,\n",
        "    ('D','B'):3,\n",
        "    ('E','G2'):5,\n",
        "    ('G1','C'):2,\n",
        "    ('G2','B'):8,\n",
        "    ('S','A'):3,\n",
        "    ('S','B'):7\n",
        "}\n",
        "\n",
        "# Heuristic evaluation of the states, given in the question\n",
        "HEURISTIC_EVAL = {'A':5, 'B':8, 'C':3, 'D':2, 'E':4, 'G1':0, 'G2':0, 'S':10}"
      ],
      "metadata": {
        "id": "yNk6dL3fRI6T"
      },
      "execution_count": null,
      "outputs": []
    },
    {
      "cell_type": "code",
      "execution_count": null,
      "metadata": {
        "id": "Ag_JvUJ3Qxfo"
      },
      "outputs": [],
      "source": [
        "def get_state_children (s):\n",
        "  '''\n",
        "  Inputs:\n",
        "    s:  state variable where s in ['A', 'B', 'C', 'D', 'E', 'G1', 'G2', 'S'] \n",
        "  Outputs:\n",
        "        List of children (next states) reachable from state s\n",
        "\n",
        "  returns the list of states which can be reached from this state with a legal action\n",
        "  Sort  alphabetically\n",
        "  '''\n",
        "  children = sorted([item[1] for item in ACTION_COST.keys() if item[0]==s])\n",
        "  return children"
      ]
    },
    {
      "cell_type": "markdown",
      "source": [
        "a) BFS Implementation"
      ],
      "metadata": {
        "id": "yOfkqMTaVV0N"
      }
    },
    {
      "cell_type": "code",
      "source": [
        "start_state ='S'\n",
        "goal_state = ['G1', 'G2']\n",
        "closed_states = [] # Visited nodes\n",
        "open_states  = [start_state] # Queue: To be visited\n",
        "success = 0 \n",
        "\n",
        "while open_states:\n",
        "    x_states = open_states.pop(0)\n",
        "    print ('Just visited state: ', x_states )\n",
        "    if x_states in goal_state:\n",
        "      success =1 \n",
        "      break\n",
        "    else:\n",
        "      closed_states.append(x_states)\n",
        "      for child in get_state_children(x_states):\n",
        "        if child not in closed_states and child not in open_states:\n",
        "          open_states.append(child)\n",
        "\n",
        "    print('closed_states: ', closed_states)\n",
        "    print('open_states: ', open_states, '\\n')\n",
        "\n",
        "if success:\n",
        "  print('SUCCESS')\n",
        "else:\n",
        "  print('FAILUER')"
      ],
      "metadata": {
        "colab": {
          "base_uri": "https://localhost:8080/"
        },
        "id": "Nfk7QQ-_WsJP",
        "outputId": "273c6e1c-ada0-4299-cd2d-15edb26a5495"
      },
      "execution_count": null,
      "outputs": [
        {
          "output_type": "stream",
          "name": "stdout",
          "text": [
            "Just visited state:  S\n",
            "closed_states:  ['S']\n",
            "open_states:  ['A', 'B'] \n",
            "\n",
            "Just visited state:  A\n",
            "closed_states:  ['S', 'A']\n",
            "open_states:  ['B', 'C', 'D'] \n",
            "\n",
            "Just visited state:  B\n",
            "closed_states:  ['S', 'A', 'B']\n",
            "open_states:  ['C', 'D', 'E', 'G2'] \n",
            "\n",
            "Just visited state:  C\n",
            "closed_states:  ['S', 'A', 'B', 'C']\n",
            "open_states:  ['D', 'E', 'G2'] \n",
            "\n",
            "Just visited state:  D\n",
            "closed_states:  ['S', 'A', 'B', 'C', 'D']\n",
            "open_states:  ['E', 'G2', 'G1'] \n",
            "\n",
            "Just visited state:  E\n",
            "closed_states:  ['S', 'A', 'B', 'C', 'D', 'E']\n",
            "open_states:  ['G2', 'G1'] \n",
            "\n",
            "Just visited state:  G2\n",
            "SUCCESS\n"
          ]
        }
      ]
    },
    {
      "cell_type": "markdown",
      "source": [
        "b) Depth-first Search"
      ],
      "metadata": {
        "id": "J_GVkCMwZ18a"
      }
    },
    {
      "cell_type": "code",
      "source": [
        "start_state ='S'\n",
        "goal_state = ['G1', 'G2']\n",
        "closed_states = [] # Visited nodes\n",
        "open_states  = [start_state] # Queue: To be visited\n",
        "success = 0 \n",
        "\n",
        "while open_states:\n",
        "    x_states = open_states.pop(0)\n",
        "    print ('Just visited state: ', x_states )\n",
        "    if x_states in goal_state:\n",
        "      success =1 \n",
        "      break\n",
        "    else:\n",
        "      closed_states.append(x_states)\n",
        "      children_inv_sorted = sorted(get_state_children(x_states), reverse=True) # Question asks for alphabetical insertion\n",
        "      for child in children_inv_sorted:\n",
        "        if child not in closed_states and child not in open_states:\n",
        "          open_states.insert(0, child)\n",
        "\n",
        "    print('closed_states: ', closed_states)\n",
        "    print('open_states: ', open_states, '\\n')\n",
        "\n",
        "if success:\n",
        "  print('SUCCESS')\n",
        "else:\n",
        "  print('FAILUER')"
      ],
      "metadata": {
        "id": "Y_TJehZjZ2g-",
        "colab": {
          "base_uri": "https://localhost:8080/"
        },
        "outputId": "efe05f92-aba3-4265-a2eb-38f537a17e22"
      },
      "execution_count": null,
      "outputs": [
        {
          "output_type": "stream",
          "name": "stdout",
          "text": [
            "Just visited state:  S\n",
            "closed_states:  ['S']\n",
            "open_states:  ['A', 'B'] \n",
            "\n",
            "Just visited state:  A\n",
            "closed_states:  ['S', 'A']\n",
            "open_states:  ['C', 'D', 'B'] \n",
            "\n",
            "Just visited state:  C\n",
            "closed_states:  ['S', 'A', 'C']\n",
            "open_states:  ['D', 'B'] \n",
            "\n",
            "Just visited state:  D\n",
            "closed_states:  ['S', 'A', 'C', 'D']\n",
            "open_states:  ['G1', 'B'] \n",
            "\n",
            "Just visited state:  G1\n",
            "SUCCESS\n"
          ]
        }
      ]
    },
    {
      "cell_type": "markdown",
      "source": [
        "(c) Iterative deepening depth-first search"
      ],
      "metadata": {
        "id": "6dJSMWnOexsU"
      }
    },
    {
      "cell_type": "code",
      "source": [
        "start_state ='S'\n",
        "goal_state = ['G1', 'G2']\n",
        "closed_states = [] # Visited nodes\n",
        "open_states  = [start_state] # Queue: To be visited\n",
        "success = 0 \n",
        "MAX_DEPATH = 4\n",
        "\n",
        "allowed_depth =1\n",
        "while allowed_depth < MAX_DEPATH:\n",
        "  closed_states = [] # Visited nodes\n",
        "  open_states  = [start_state] # Queue: To be visited\n",
        "  depth_dict = {'S':1}\n",
        "  print('Allowed depth: ', allowed_depth)\n",
        "  print('--------------------------------------')\n",
        "  while open_states:\n",
        "      x_states = open_states.pop(0)\n",
        "      depth_of_current_state = depth_dict[x_states]\n",
        "      print ('Just visited state: ', x_states, \"({})\".format(depth_of_current_state) )\n",
        "      if x_states in goal_state:\n",
        "        success =1 \n",
        "        break\n",
        "      else:\n",
        "        closed_states.append(x_states)\n",
        "        if depth_of_current_state < allowed_depth:\n",
        "          children_inv_sorted = sorted(get_state_children(x_states), reverse=True) # Question asks for alphabetical insertion\n",
        "          for child in children_inv_sorted:\n",
        "            if child not in closed_states and child not in open_states:\n",
        "              open_states.insert(0, child)\n",
        "              depth_dict[child]=depth_dict[x_states]+1\n",
        "\n",
        "      print('closed_states: ', closed_states)\n",
        "      print('open_states: ', open_states, '\\n')\n",
        "\n",
        "  if success:\n",
        "    print('SUCCESS')\n",
        "    break\n",
        "  else:\n",
        "    allowed_depth+=1"
      ],
      "metadata": {
        "colab": {
          "base_uri": "https://localhost:8080/"
        },
        "id": "325PtM3He0gK",
        "outputId": "0531de41-c84f-429e-cc2a-b2161ceda220"
      },
      "execution_count": null,
      "outputs": [
        {
          "output_type": "stream",
          "name": "stdout",
          "text": [
            "Allowed depth:  1\n",
            "--------------------------------------\n",
            "Just visited state:  S (1)\n",
            "closed_states:  ['S']\n",
            "open_states:  [] \n",
            "\n",
            "Allowed depth:  2\n",
            "--------------------------------------\n",
            "Just visited state:  S (1)\n",
            "closed_states:  ['S']\n",
            "open_states:  ['A', 'B'] \n",
            "\n",
            "Just visited state:  A (2)\n",
            "closed_states:  ['S', 'A']\n",
            "open_states:  ['B'] \n",
            "\n",
            "Just visited state:  B (2)\n",
            "closed_states:  ['S', 'A', 'B']\n",
            "open_states:  [] \n",
            "\n",
            "Allowed depth:  3\n",
            "--------------------------------------\n",
            "Just visited state:  S (1)\n",
            "closed_states:  ['S']\n",
            "open_states:  ['A', 'B'] \n",
            "\n",
            "Just visited state:  A (2)\n",
            "closed_states:  ['S', 'A']\n",
            "open_states:  ['C', 'D', 'B'] \n",
            "\n",
            "Just visited state:  C (3)\n",
            "closed_states:  ['S', 'A', 'C']\n",
            "open_states:  ['D', 'B'] \n",
            "\n",
            "Just visited state:  D (3)\n",
            "closed_states:  ['S', 'A', 'C', 'D']\n",
            "open_states:  ['B'] \n",
            "\n",
            "Just visited state:  B (2)\n",
            "closed_states:  ['S', 'A', 'C', 'D', 'B']\n",
            "open_states:  ['E', 'G2'] \n",
            "\n",
            "Just visited state:  E (3)\n",
            "closed_states:  ['S', 'A', 'C', 'D', 'B', 'E']\n",
            "open_states:  ['G2'] \n",
            "\n",
            "Just visited state:  G2 (3)\n",
            "SUCCESS\n"
          ]
        }
      ]
    },
    {
      "cell_type": "markdown",
      "source": [
        "(d) Uniform cost search (different costs)"
      ],
      "metadata": {
        "id": "BvvH25ESoYK6"
      }
    },
    {
      "cell_type": "code",
      "source": [
        "start_state ='S'\n",
        "goal_state = ['G1', 'G2']\n",
        "closed_states = [] # Visited nodes\n",
        "open_states  = [[start_state, 0]] # Queue: We implement it as a list\n",
        "success = 0 \n",
        "\n",
        "while open_states:\n",
        "    x_state_tuple = open_states.pop(0)\n",
        "    x_states = x_state_tuple[0] # State\n",
        "    x_cost  = x_state_tuple[1] # State cost \n",
        "\n",
        "    print ('Just visited state: ', x_states, 'Cost: ({})'.format(x_cost) )\n",
        "    if x_states in goal_state:\n",
        "      success =1 \n",
        "      break\n",
        "    else:\n",
        "      closed_states.append(x_states)\n",
        "      open_state_only = [item[0] for item in open_states]\n",
        "      for child in get_state_children(x_states):\n",
        "        new_child_cost = x_cost+ACTION_COST[(x_states, child)]\n",
        "        if child not in closed_states and child not in open_state_only:\n",
        "          open_states.append([child, new_child_cost ])\n",
        "        elif child in open_state_only: \n",
        "          '''Already in the list: Find and update it'''\n",
        "          for state_item in open_states:\n",
        "            if state_item[0]==child:\n",
        "              state_item[1] = min(state_item[1], new_child_cost)\n",
        "              break\n",
        "        \n",
        "      open_states.sort(key=lambda x: x[1])  # Sort step\n",
        " \n",
        "    print('closed_states: ', closed_states)\n",
        "    print('open_states: ', open_states, '\\n')\n",
        "\n",
        "if success:\n",
        "  print('SUCCESS')\n",
        "else:\n",
        "  print('FAILUER')"
      ],
      "metadata": {
        "colab": {
          "base_uri": "https://localhost:8080/"
        },
        "outputId": "bb9f7f8d-4268-4b5d-a11a-bb0c312b86c3",
        "id": "KE6qPXSzoXNY"
      },
      "execution_count": null,
      "outputs": [
        {
          "output_type": "stream",
          "name": "stdout",
          "text": [
            "Just visited state:  S Cost: (0)\n",
            "closed_states:  ['S']\n",
            "open_states:  [['A', 3], ['B', 7]] \n",
            "\n",
            "Just visited state:  A Cost: (3)\n",
            "closed_states:  ['S', 'A']\n",
            "open_states:  [['C', 4], ['B', 7], ['D', 9]] \n",
            "\n",
            "Just visited state:  C Cost: (4)\n",
            "closed_states:  ['S', 'A', 'C']\n",
            "open_states:  [['B', 7], ['D', 8]] \n",
            "\n",
            "Just visited state:  B Cost: (7)\n",
            "closed_states:  ['S', 'A', 'C', 'B']\n",
            "open_states:  [['D', 8], ['E', 8], ['G2', 16]] \n",
            "\n",
            "Just visited state:  D Cost: (8)\n",
            "closed_states:  ['S', 'A', 'C', 'B', 'D']\n",
            "open_states:  [['E', 8], ['G1', 14], ['G2', 16]] \n",
            "\n",
            "Just visited state:  E Cost: (8)\n",
            "closed_states:  ['S', 'A', 'C', 'B', 'D', 'E']\n",
            "open_states:  [['G2', 13], ['G1', 14]] \n",
            "\n",
            "Just visited state:  G2 Cost: (13)\n",
            "SUCCESS\n"
          ]
        }
      ]
    },
    {
      "cell_type": "markdown",
      "source": [
        "(e) Hill climbing"
      ],
      "metadata": {
        "id": "ZcGmJ8hgU8Jq"
      }
    },
    {
      "cell_type": "code",
      "source": [
        "start_state ='S'\n",
        "goal_state = ['G1', 'G2']\n",
        "success = 0 \n",
        "current_state = start_state\n",
        "current_evaluation = HEURISTIC_EVAL[current_state]\n",
        "\n",
        "while True:\n",
        "    print ('Just visited state: ', current_state, 'Heuristic evaluated cost: ({})'.format(current_evaluation) )\n",
        "    if current_state in goal_state:\n",
        "      success =1 \n",
        "      break\n",
        "    else:\n",
        "      is_better_neighbor_found=False\n",
        "      for child in get_state_children(current_state):\n",
        "        if HEURISTIC_EVAL[child] <= current_evaluation:\n",
        "          current_state = child\n",
        "          current_evaluation = HEURISTIC_EVAL[child]\n",
        "          is_better_neighbor_found = True\n",
        "          break\n",
        "        else:\n",
        "          print('Evaluated cost child {} ({}) > Evaluated cost parent {} ({})'.format(child, HEURISTIC_EVAL[child],current_state,current_evaluation ))\n",
        "      if not is_better_neighbor_found:\n",
        "        print('Hill Climbing is stuck at the current state and terminates.')\n",
        "        break\n",
        "        \n",
        "if success:\n",
        "  print('SUCCESS')\n",
        "else:\n",
        "  print('FAILUER')"
      ],
      "metadata": {
        "colab": {
          "base_uri": "https://localhost:8080/"
        },
        "id": "ZkmMOu3tU_Hp",
        "outputId": "16973833-a09b-4771-986e-fba6a9277c50"
      },
      "execution_count": null,
      "outputs": [
        {
          "output_type": "stream",
          "name": "stdout",
          "text": [
            "Just visited state:  S Heuristic evaluated cost: (10)\n",
            "Just visited state:  A Heuristic evaluated cost: (5)\n",
            "Just visited state:  C Heuristic evaluated cost: (3)\n",
            "Just visited state:  D Heuristic evaluated cost: (2)\n",
            "Evaluated cost child B (8) > Evaluated cost parent D (2)\n",
            "Just visited state:  G1 Heuristic evaluated cost: (0)\n",
            "SUCCESS\n"
          ]
        }
      ]
    },
    {
      "cell_type": "markdown",
      "source": [
        "(f) Best-first search"
      ],
      "metadata": {
        "id": "1UI3EuR8a-ig"
      }
    },
    {
      "cell_type": "code",
      "source": [
        "start_state ='S'\n",
        "goal_state = ['G1', 'G2']\n",
        "closed_states = [] # Visited nodes\n",
        "open_states  = [[start_state, HEURISTIC_EVAL[start_state]]] # Queue: We implement it as a list of [state, evalution of state]\n",
        "success = 0 \n",
        "\n",
        "while open_states:\n",
        "    x_state_tuple = open_states.pop(0)\n",
        "    x_states = x_state_tuple[0] # State\n",
        "    x_cost  = x_state_tuple[1] # State cost \n",
        "\n",
        "    print ('Just visited state: ', x_states, 'Cost: ({})'.format(x_cost) )\n",
        "    if x_states in goal_state:\n",
        "      success =1 \n",
        "      break\n",
        "    else:\n",
        "      only_open_states = [item[0] for item in open_states] # Only the states' names without the evaluation\n",
        "      closed_states.append(x_states)\n",
        "      for child in get_state_children(x_states):\n",
        "        if child not in closed_states and child not in only_open_states:\n",
        "          open_states.append([child, HEURISTIC_EVAL[child]])\n",
        "                \n",
        "      '''Sort step to make the list a priority queue'''\n",
        "      open_states.sort(key=lambda x: x[1]) \n",
        " \n",
        "    print('closed_states: ', closed_states)\n",
        "    print('open_states: ', open_states, '\\n')\n",
        "\n",
        "if success:\n",
        "  print('SUCCESS')\n",
        "else:\n",
        "  print('FAILUER')"
      ],
      "metadata": {
        "colab": {
          "base_uri": "https://localhost:8080/"
        },
        "id": "umYQAbRya_x_",
        "outputId": "4e0b623d-fa39-48e7-eda9-44730c625bc3"
      },
      "execution_count": null,
      "outputs": [
        {
          "output_type": "stream",
          "name": "stdout",
          "text": [
            "Just visited state:  S Cost: (10)\n",
            "closed_states:  ['S']\n",
            "open_states:  [['A', 5], ['B', 8]] \n",
            "\n",
            "Just visited state:  A Cost: (5)\n",
            "closed_states:  ['S', 'A']\n",
            "open_states:  [['D', 2], ['C', 3], ['B', 8]] \n",
            "\n",
            "Just visited state:  D Cost: (2)\n",
            "closed_states:  ['S', 'A', 'D']\n",
            "open_states:  [['G1', 0], ['C', 3], ['B', 8]] \n",
            "\n",
            "Just visited state:  G1 Cost: (0)\n",
            "SUCCESS\n"
          ]
        }
      ]
    },
    {
      "cell_type": "markdown",
      "source": [
        "(g) Algorithm A  "
      ],
      "metadata": {
        "id": "z6q5YEYHeaBY"
      }
    },
    {
      "cell_type": "code",
      "source": [
        "start_state ='S'\n",
        "goal_state = ['G1', 'G2']\n",
        "closed_states = [] # Visited nodes\n",
        "open_states  = [[start_state, HEURISTIC_EVAL[start_state], 0]] # Queue: We implement it as a list of [state, evalution of state, path_cost]\n",
        "success = 0 \n",
        "\n",
        "while open_states:\n",
        "    x_state_tuple = open_states.pop(0)\n",
        "    x_states   = x_state_tuple[0] # State\n",
        "    x_cost     = x_state_tuple[1] # State evaluated cost to goal \n",
        "    path_cost  = x_state_tuple[2] # Path cost from root to this state \n",
        "\n",
        "    print ('Just visited state: ', x_states, 'Evaluted cost to goal: ({})'.format(x_cost), 'Path cost from root: ({})'.format(path_cost) )\n",
        "    if x_states in goal_state:\n",
        "      success =1 \n",
        "      break\n",
        "    else:\n",
        "      only_open_states = [item[0] for item in open_states] # Only the states' names without the evaluation\n",
        "      closed_states.append(x_states)\n",
        "      for child in get_state_children(x_states):\n",
        "        if child not in closed_states and child not in only_open_states:\n",
        "          open_states.append([child, HEURISTIC_EVAL[child], path_cost + ACTION_COST[(x_states, child)]])\n",
        "        elif child in only_open_states: \n",
        "          '''Already in the list: Find and update it'''\n",
        "          for state_item in open_states:\n",
        "            if state_item[0]==child:\n",
        "              state_item[2] = min(state_item[2], path_cost + ACTION_COST[(x_states, child)])\n",
        "              break\n",
        "                \n",
        "      '''Sort step to make the list a priority queue (Sum of two costs)'''\n",
        "      open_states.sort(key=lambda x: x[1]+x[2]) \n",
        " \n",
        "    print('closed_states: ', closed_states)\n",
        "    print('open_states: ', open_states, '\\n')\n",
        "\n",
        "if success:\n",
        "  print('SUCCESS')\n",
        "else:\n",
        "  print('FAILUER')"
      ],
      "metadata": {
        "colab": {
          "base_uri": "https://localhost:8080/"
        },
        "id": "joVa6BczedzQ",
        "outputId": "8b9b1127-0313-4d45-9dbd-91e51193cf31"
      },
      "execution_count": null,
      "outputs": [
        {
          "output_type": "stream",
          "name": "stdout",
          "text": [
            "Just visited state:  S Evaluted cost to goal: (10) Path cost from root: (0)\n",
            "closed_states:  ['S']\n",
            "open_states:  [['A', 5, 3], ['B', 8, 7]] \n",
            "\n",
            "Just visited state:  A Evaluted cost to goal: (5) Path cost from root: (3)\n",
            "closed_states:  ['S', 'A']\n",
            "open_states:  [['C', 3, 4], ['D', 2, 9], ['B', 8, 7]] \n",
            "\n",
            "Just visited state:  C Evaluted cost to goal: (3) Path cost from root: (4)\n",
            "closed_states:  ['S', 'A', 'C']\n",
            "open_states:  [['D', 2, 8], ['B', 8, 7]] \n",
            "\n",
            "Just visited state:  D Evaluted cost to goal: (2) Path cost from root: (8)\n",
            "closed_states:  ['S', 'A', 'C', 'D']\n",
            "open_states:  [['G1', 0, 14], ['B', 8, 7]] \n",
            "\n",
            "Just visited state:  G1 Evaluted cost to goal: (0) Path cost from root: (14)\n",
            "SUCCESS\n"
          ]
        }
      ]
    }
  ]
}