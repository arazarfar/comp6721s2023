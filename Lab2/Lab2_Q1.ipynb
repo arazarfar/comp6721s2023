{
  "nbformat": 4,
  "nbformat_minor": 0,
  "metadata": {
    "colab": {
      "provenance": []
    },
    "kernelspec": {
      "name": "python3",
      "display_name": "Python 3"
    },
    "language_info": {
      "name": "python"
    }
  },
  "cells": [
    {
      "cell_type": "markdown",
      "source": [
        "Concordia COMP 6721 Summer 2023 <br>\n",
        "Lab Assignment 2 State Space Search (sample implementation) <br>\n",
        "Question 1 "
      ],
      "metadata": {
        "id": "yhtOyyP5F5P2"
      }
    },
    {
      "cell_type": "code",
      "execution_count": 1,
      "metadata": {
        "id": "rLTGRMfDVDzh",
        "colab": {
          "base_uri": "https://localhost:8080/",
          "height": 145
        },
        "outputId": "f3674415-150e-4d33-96d5-c36fd54a1c28"
      },
      "outputs": [
        {
          "output_type": "execute_result",
          "data": {
            "text/plain": [
              "\"\\nState = position(farmer, fox, goose, beans)\\nLet's assume \\n0: Original bank\\n1: Far bank \\n\\nInitial state = (0,0,0,0) Eqv to 0000 = 0 \\nGoal state  = (1,1,1,1) Eqv to 1111 = 15\\nIllegal states = \\n8 = (1,0,0,0)\\n7 = (0,1,1,1)\\n\\n9 = (1,0,0,1)\\n6 = (0,1,1,0)\\n\\n3 = (0,0,1,1)\\n12 = (1,1,0,0)\\n\\nActions (|: Logical OR,  &: Logical AND)\\nmoveFar(farmer, empty) (newState = oldState | 1000)\\nmoveFar(farmer, fox)   (newState = oldState | 1100)\\nmoveFar(farmer, goose) (newState = oldState | 1010)\\nmoveFar(farmer, beans) (newState = oldState | 1001)\\n\\nmoveBack(farmer, empty) (newState = oldState & 0111)\\nmoveBack(farmer, fox)   (newState = oldState & 0011)\\nmoveBack(farmer, goose) (newState = oldState & 0101)\\nmoveBack(farmer, beans) (newState = oldState & 0110)\\n\\nIf farmer is on the original side (0<= state <=7) moveFar actions are allowed.\\nIf farmer ison the far side (8<= state <=15) moveBack actions are allowed.\\n\\n\""
            ],
            "application/vnd.google.colaboratory.intrinsic+json": {
              "type": "string"
            }
          },
          "metadata": {},
          "execution_count": 1
        }
      ],
      "source": [
        "'''\n",
        "State = position(farmer, fox, goose, beans)\n",
        "Let's assume \n",
        "0: Original bank\n",
        "1: Far bank \n",
        "\n",
        "Initial state = (0,0,0,0) Eqv to 0000 = 0 \n",
        "Goal state  = (1,1,1,1) Eqv to 1111 = 15\n",
        "Illegal states = \n",
        "8 = (1,0,0,0)\n",
        "7 = (0,1,1,1)\n",
        "\n",
        "9 = (1,0,0,1)\n",
        "6 = (0,1,1,0)\n",
        "\n",
        "3 = (0,0,1,1)\n",
        "12 = (1,1,0,0)\n",
        "\n",
        "Actions (|: Logical OR,  &: Logical AND)\n",
        "moveFar(farmer, empty) (newState = oldState | 1000)\n",
        "moveFar(farmer, fox)   (newState = oldState | 1100)\n",
        "moveFar(farmer, goose) (newState = oldState | 1010)\n",
        "moveFar(farmer, beans) (newState = oldState | 1001)\n",
        "\n",
        "moveBack(farmer, empty) (newState = oldState & 0111)\n",
        "moveBack(farmer, fox)   (newState = oldState & 0011)\n",
        "moveBack(farmer, goose) (newState = oldState & 0101)\n",
        "moveBack(farmer, beans) (newState = oldState & 0110)\n",
        "\n",
        "If farmer is on the original side (0<= state <=7) moveFar actions are allowed.\n",
        "If farmer ison the far side (8<= state <=15) moveBack actions are allowed.\n",
        "\n",
        "''' \n"
      ]
    },
    {
      "cell_type": "markdown",
      "source": [
        "Auxilary functions to present the actions and states in a user-friendly manner"
      ],
      "metadata": {
        "id": "3yDcw-MDVxBy"
      }
    },
    {
      "cell_type": "code",
      "source": [
        "def get_state_description (s):\n",
        "  '''\n",
        "  Inputs:\n",
        "    s: Integer state variale in [0, 15] \n",
        "  Outputs:\n",
        "        A string describing the state\n",
        "  '''\n",
        "  return ['f' if int(i) else 'o' for i in '{0:04b}'.format(x_states)]"
      ],
      "metadata": {
        "id": "wd0ReYtxVWJr"
      },
      "execution_count": 2,
      "outputs": []
    },
    {
      "cell_type": "code",
      "source": [
        "def get_action_description (state, child):\n",
        "  '''\n",
        "  Inputs:\n",
        "    s:     Integer state variale in [0, 15] indicating original state\n",
        "    child: Integer state variale in [0, 15] indicating child state\n",
        "  Outputs:\n",
        "        A string describing the action of going from state to child\n",
        "  '''\n",
        "  DESCRIPTION = ['farmer', 'fox', 'goose', 'beans']\n",
        "  bit_changes = state ^ child  # XOR\n",
        "  entities_movement = ([DESCRIPTION[pos] if int(val) else '' for pos,val in enumerate('{0:04b}'.format(bit_changes))])\n",
        "  moved_entities = [item for item in entities_movement if item]\n",
        "  if state > child:\n",
        "    return 'moveBack(' + ','.join(moved_entities) +')'\n",
        "  else:\n",
        "    return 'moveFar(' + ','.join(moved_entities) +')'"
      ],
      "metadata": {
        "id": "lfJngrtPVglS"
      },
      "execution_count": 3,
      "outputs": []
    },
    {
      "cell_type": "code",
      "source": [
        "def get_state_children (s):\n",
        "  '''\n",
        "  Inputs:\n",
        "    s: Integer state variale in [0, 15] \n",
        "  Outputs:\n",
        "        List of children (next states) reachable from state s\n",
        "\n",
        "  returns the list of states which can be reached from this state with a legal action\n",
        "  '''\n",
        "  if 0<=s and s<=7:\n",
        "    return [s | 8, s | 9, s | 10, s | 12 ]\n",
        "  elif 8<=s and s<=15:\n",
        "    return [s & 7, s & 6, s & 5, s & 3 ]\n",
        "  else:\n",
        "      print('State is supposed to be between 0 and 15')\n",
        "      return []"
      ],
      "metadata": {
        "id": "gqePW3YDVnem"
      },
      "execution_count": 4,
      "outputs": []
    },
    {
      "cell_type": "markdown",
      "source": [
        "BFS implementation"
      ],
      "metadata": {
        "id": "tsD6VqXJWDd6"
      }
    },
    {
      "cell_type": "code",
      "source": [
        "start_state = 0\n",
        "goal_state = 15\n",
        "closed_states = [] # Visited nodes\n",
        "open_states  = [start_state] # Queue: To be visited\n",
        "actions=['Start'] # Optional: Bookkeeping of actions \n",
        "success = 0 \n",
        "illegal_states = [8,7,9,6,3,12] \n",
        "\n",
        "while open_states:\n",
        "    x_states = open_states.pop(0)\n",
        "    action = actions.pop(0) \n",
        "    print (action,  '->' , '{0:04b}'.format(x_states), get_state_description(x_states))\n",
        "    if x_states == goal_state:\n",
        "      success =1 \n",
        "      break\n",
        "    else:\n",
        "      closed_states.append(x_states)\n",
        "      for child in get_state_children(x_states):\n",
        "        if child not in illegal_states and child not in closed_states and child not in open_states:\n",
        "          open_states.append(child)\n",
        "          actions.append(get_action_description(x_states, child))\n",
        "\n",
        "if success:\n",
        "  print('SUCCESS')\n",
        "else:\n",
        "  print('FAILUER')"
      ],
      "metadata": {
        "id": "SUG9ouQZVteN",
        "colab": {
          "base_uri": "https://localhost:8080/"
        },
        "outputId": "9788d314-8e97-4ebc-d5b2-b961781a61af"
      },
      "execution_count": 5,
      "outputs": [
        {
          "output_type": "stream",
          "name": "stdout",
          "text": [
            "Start -> 0000 ['o', 'o', 'o', 'o']\n",
            "moveFar(farmer,goose) -> 1010 ['f', 'o', 'f', 'o']\n",
            "moveBack(farmer) -> 0010 ['o', 'o', 'f', 'o']\n",
            "moveFar(farmer,beans) -> 1011 ['f', 'o', 'f', 'f']\n",
            "moveFar(farmer,fox) -> 1110 ['f', 'f', 'f', 'o']\n",
            "moveBack(farmer,goose) -> 0001 ['o', 'o', 'o', 'f']\n",
            "moveBack(farmer,goose) -> 0100 ['o', 'f', 'o', 'o']\n",
            "moveFar(farmer,fox) -> 1101 ['f', 'f', 'o', 'f']\n",
            "moveBack(farmer) -> 0101 ['o', 'f', 'o', 'f']\n",
            "moveFar(farmer,goose) -> 1111 ['f', 'f', 'f', 'f']\n",
            "SUCCESS\n"
          ]
        }
      ]
    },
    {
      "cell_type": "markdown",
      "source": [
        "DFS Implementation"
      ],
      "metadata": {
        "id": "KNeECoTQWRUO"
      }
    },
    {
      "cell_type": "code",
      "source": [
        "start_state = 0\n",
        "goal_state = 15\n",
        "closed_states = [] # Visited nodes\n",
        "open_states  = [start_state] # Queue: To be visited\n",
        "actions=['Start'] # Optional: Bookkeeping of actions \n",
        "success = 0 \n",
        "illegal_states = [8,7,9,6,3,12] \n",
        "\n",
        "while open_states:\n",
        "    x_states = open_states.pop(0)\n",
        "    action = actions.pop(0) \n",
        "    print (action,  '->' , '{0:04b}'.format(x_states), get_state_description(x_states))\n",
        "    if x_states == goal_state:\n",
        "      success =1 \n",
        "      break\n",
        "    else:\n",
        "      closed_states.append(x_states)\n",
        "      for child in get_state_children(x_states):\n",
        "        if child not in illegal_states and child not in closed_states and child not in open_states:\n",
        "          open_states.insert(0, child)\n",
        "          actions.append(get_action_description(x_states, child))\n",
        "\n",
        "if success:\n",
        "  print('SUCCESS')\n",
        "else:\n",
        "  print('FAILUER')"
      ],
      "metadata": {
        "id": "XqRfRluxWTgk",
        "colab": {
          "base_uri": "https://localhost:8080/"
        },
        "outputId": "221e0ffb-d178-40d6-99fd-2052755af4ab"
      },
      "execution_count": 6,
      "outputs": [
        {
          "output_type": "stream",
          "name": "stdout",
          "text": [
            "Start -> 0000 ['o', 'o', 'o', 'o']\n",
            "moveFar(farmer,goose) -> 1010 ['f', 'o', 'f', 'o']\n",
            "moveBack(farmer) -> 0010 ['o', 'o', 'f', 'o']\n",
            "moveFar(farmer,beans) -> 1110 ['f', 'f', 'f', 'o']\n",
            "moveFar(farmer,fox) -> 0100 ['o', 'f', 'o', 'o']\n",
            "moveBack(farmer,goose) -> 1101 ['f', 'f', 'o', 'f']\n",
            "moveFar(farmer,beans) -> 0001 ['o', 'o', 'o', 'f']\n",
            "moveBack(farmer) -> 0101 ['o', 'f', 'o', 'f']\n",
            "moveBack(farmer,fox) -> 1111 ['f', 'f', 'f', 'f']\n",
            "SUCCESS\n"
          ]
        }
      ]
    }
  ]
}