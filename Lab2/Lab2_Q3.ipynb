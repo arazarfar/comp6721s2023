{
  "nbformat": 4,
  "nbformat_minor": 0,
  "metadata": {
    "colab": {
      "provenance": []
    },
    "kernelspec": {
      "name": "python3",
      "display_name": "Python 3"
    },
    "language_info": {
      "name": "python"
    }
  },
  "cells": [
    {
      "cell_type": "markdown",
      "source": [
        "Concordia COMP 6721 Summer 2023 <br>\n",
        "Lab Assignment 2 State Space Search (sample implementation) <br>\n",
        "Question 3 "
      ],
      "metadata": {
        "id": "mHMdN8ZKGaXT"
      }
    },
    {
      "cell_type": "code",
      "source": [
        "def get_state_children (s, n_rows, n_cols):\n",
        "  '''\n",
        "  Inputs:\n",
        "    s: (i,j) state variable where i,j in [1, 4] \n",
        "  Outputs:\n",
        "        List of children (next states) reachable from state s\n",
        "\n",
        "  returns the list of states which can be reached from this state with a legal action\n",
        "  '''\n",
        "  i,j = s\n",
        "  children_tmp = [(i,j+1),(i,j-1),(i+1,j), (i-1,j)]\n",
        "  # For the cells on the border, some actions are not allowed\n",
        "  children = [item for item in children_tmp if item[0]>=1 and item[0]<=n_rows and item[1]>=1 and item[1]<=n_cols]\n",
        "  return children"
      ],
      "metadata": {
        "id": "lvmOlf0-W0vb"
      },
      "execution_count": 1,
      "outputs": []
    },
    {
      "cell_type": "markdown",
      "source": [
        "DFS Implementation\n"
      ],
      "metadata": {
        "id": "0D8mwO5MW70g"
      }
    },
    {
      "cell_type": "code",
      "source": [
        "N_ROWS = 4\n",
        "N_COLS = 4\n",
        "\n",
        "start_state = (1,1)\n",
        "goal_state = (4,4)\n",
        "closed_states = [] # Visited nodes\n",
        "open_states  = [start_state] # Queue: To be visited\n",
        "success = 0 \n",
        "illegal_states = [(2,2),(2,4),(3,4),(4,1)] \n",
        "\n",
        "while open_states:\n",
        "    x_states = open_states.pop(0)\n",
        "    print ('Just visited state: ', x_states )\n",
        "    if x_states == goal_state:\n",
        "      success =1 \n",
        "      break\n",
        "    else:\n",
        "      closed_states.append(x_states)\n",
        "      for child in get_state_children(x_states, N_ROWS, N_COLS):\n",
        "        if child not in illegal_states and child not in closed_states and child not in open_states:\n",
        "          open_states.insert(0, child)\n",
        "\n",
        "    print('closed_states: ', closed_states)\n",
        "    print('open_states: ', open_states, '\\n')\n",
        "\n",
        "if success:\n",
        "  print('SUCCESS')\n",
        "else:\n",
        "  print('FAILUER')"
      ],
      "metadata": {
        "colab": {
          "base_uri": "https://localhost:8080/"
        },
        "id": "kDkxvERxtgnW",
        "outputId": "b2e2f2fd-e110-4c8e-8eeb-25d6db7aee1e"
      },
      "execution_count": 2,
      "outputs": [
        {
          "output_type": "stream",
          "name": "stdout",
          "text": [
            "Just visited state:  (1, 1)\n",
            "closed_states:  [(1, 1)]\n",
            "open_states:  [(2, 1), (1, 2)] \n",
            "\n",
            "Just visited state:  (2, 1)\n",
            "closed_states:  [(1, 1), (2, 1)]\n",
            "open_states:  [(3, 1), (1, 2)] \n",
            "\n",
            "Just visited state:  (3, 1)\n",
            "closed_states:  [(1, 1), (2, 1), (3, 1)]\n",
            "open_states:  [(3, 2), (1, 2)] \n",
            "\n",
            "Just visited state:  (3, 2)\n",
            "closed_states:  [(1, 1), (2, 1), (3, 1), (3, 2)]\n",
            "open_states:  [(4, 2), (3, 3), (1, 2)] \n",
            "\n",
            "Just visited state:  (4, 2)\n",
            "closed_states:  [(1, 1), (2, 1), (3, 1), (3, 2), (4, 2)]\n",
            "open_states:  [(4, 3), (3, 3), (1, 2)] \n",
            "\n",
            "Just visited state:  (4, 3)\n",
            "closed_states:  [(1, 1), (2, 1), (3, 1), (3, 2), (4, 2), (4, 3)]\n",
            "open_states:  [(4, 4), (3, 3), (1, 2)] \n",
            "\n",
            "Just visited state:  (4, 4)\n",
            "SUCCESS\n"
          ]
        }
      ]
    },
    {
      "cell_type": "markdown",
      "source": [
        "BFS Implementation"
      ],
      "metadata": {
        "id": "eJgt5pLeWiY9"
      }
    },
    {
      "cell_type": "code",
      "source": [
        "N_ROWS = 4\n",
        "N_COLS = 4\n",
        "\n",
        "start_state = (1,1)\n",
        "goal_state = (4,4)\n",
        "closed_states = [] # Visited nodes\n",
        "open_states  = [start_state] # Queue: To be visited\n",
        "success = 0 \n",
        "illegal_states = [(2,2),(2,4),(3,4),(4,1)] \n",
        "\n",
        "while open_states:\n",
        "    x_states = open_states.pop(0)\n",
        "    print ('Just visited state: ', x_states )\n",
        "    if x_states == goal_state:\n",
        "      success =1 \n",
        "      break\n",
        "    else:\n",
        "      closed_states.append(x_states)\n",
        "      for child in get_state_children(x_states, N_ROWS, N_COLS):\n",
        "        if child not in illegal_states and child not in closed_states and child not in open_states:\n",
        "          open_states.append(child)\n",
        "\n",
        "    print('closed_states: ', closed_states)\n",
        "    print('open_states: ', open_states, '\\n')\n",
        "\n",
        "if success:\n",
        "  print('SUCCESS')\n",
        "else:\n",
        "  print('FAILUER')"
      ],
      "metadata": {
        "colab": {
          "base_uri": "https://localhost:8080/"
        },
        "id": "RHaFTS0VXDZ8",
        "outputId": "ea0e0841-8cc2-4919-d3e6-e267c4344bb9"
      },
      "execution_count": 3,
      "outputs": [
        {
          "output_type": "stream",
          "name": "stdout",
          "text": [
            "Just visited state:  (1, 1)\n",
            "closed_states:  [(1, 1)]\n",
            "open_states:  [(1, 2), (2, 1)] \n",
            "\n",
            "Just visited state:  (1, 2)\n",
            "closed_states:  [(1, 1), (1, 2)]\n",
            "open_states:  [(2, 1), (1, 3)] \n",
            "\n",
            "Just visited state:  (2, 1)\n",
            "closed_states:  [(1, 1), (1, 2), (2, 1)]\n",
            "open_states:  [(1, 3), (3, 1)] \n",
            "\n",
            "Just visited state:  (1, 3)\n",
            "closed_states:  [(1, 1), (1, 2), (2, 1), (1, 3)]\n",
            "open_states:  [(3, 1), (1, 4), (2, 3)] \n",
            "\n",
            "Just visited state:  (3, 1)\n",
            "closed_states:  [(1, 1), (1, 2), (2, 1), (1, 3), (3, 1)]\n",
            "open_states:  [(1, 4), (2, 3), (3, 2)] \n",
            "\n",
            "Just visited state:  (1, 4)\n",
            "closed_states:  [(1, 1), (1, 2), (2, 1), (1, 3), (3, 1), (1, 4)]\n",
            "open_states:  [(2, 3), (3, 2)] \n",
            "\n",
            "Just visited state:  (2, 3)\n",
            "closed_states:  [(1, 1), (1, 2), (2, 1), (1, 3), (3, 1), (1, 4), (2, 3)]\n",
            "open_states:  [(3, 2), (3, 3)] \n",
            "\n",
            "Just visited state:  (3, 2)\n",
            "closed_states:  [(1, 1), (1, 2), (2, 1), (1, 3), (3, 1), (1, 4), (2, 3), (3, 2)]\n",
            "open_states:  [(3, 3), (4, 2)] \n",
            "\n",
            "Just visited state:  (3, 3)\n",
            "closed_states:  [(1, 1), (1, 2), (2, 1), (1, 3), (3, 1), (1, 4), (2, 3), (3, 2), (3, 3)]\n",
            "open_states:  [(4, 2), (4, 3)] \n",
            "\n",
            "Just visited state:  (4, 2)\n",
            "closed_states:  [(1, 1), (1, 2), (2, 1), (1, 3), (3, 1), (1, 4), (2, 3), (3, 2), (3, 3), (4, 2)]\n",
            "open_states:  [(4, 3)] \n",
            "\n",
            "Just visited state:  (4, 3)\n",
            "closed_states:  [(1, 1), (1, 2), (2, 1), (1, 3), (3, 1), (1, 4), (2, 3), (3, 2), (3, 3), (4, 2), (4, 3)]\n",
            "open_states:  [(4, 4)] \n",
            "\n",
            "Just visited state:  (4, 4)\n",
            "SUCCESS\n"
          ]
        }
      ]
    }
  ]
}